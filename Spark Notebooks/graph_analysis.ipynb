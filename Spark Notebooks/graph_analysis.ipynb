{
 "cells": [
  {
   "cell_type": "code",
   "execution_count": 1,
   "metadata": {},
   "outputs": [],
   "source": [
    "import findspark\n",
    "findspark.init()"
   ]
  },
  {
   "cell_type": "code",
   "execution_count": 1,
   "metadata": {},
   "outputs": [],
   "source": [
    "import warnings\n",
    "warnings.filterwarnings('ignore')"
   ]
  },
  {
   "cell_type": "code",
   "execution_count": 2,
   "metadata": {},
   "outputs": [],
   "source": [
    "import pandas as pd\n",
    "pd.set_option('display.max_colwidth', None)"
   ]
  },
  {
   "cell_type": "code",
   "execution_count": 3,
   "metadata": {},
   "outputs": [],
   "source": [
    "import os\n",
    "os.environ['PYSPARK_SUBMIT_ARGS'] = '--packages \"graphframes:graphframes:0.8.2-spark3.2-s_2.12\" --jars /opt/hive3/lib/hive-hcatalog-core-3.1.2.jar pyspark-shell'"
   ]
  },
  {
   "cell_type": "code",
   "execution_count": 4,
   "metadata": {},
   "outputs": [
    {
     "name": "stderr",
     "output_type": "stream",
     "text": [
      "WARNING: An illegal reflective access operation has occurred\n",
      "WARNING: Illegal reflective access by org.apache.spark.unsafe.Platform (file:/opt/spark3/jars/spark-unsafe_2.12-3.2.3.jar) to constructor java.nio.DirectByteBuffer(long,int)\n",
      "WARNING: Please consider reporting this to the maintainers of org.apache.spark.unsafe.Platform\n",
      "WARNING: Use --illegal-access=warn to enable warnings of further illegal reflective access operations\n",
      "WARNING: All illegal access operations will be denied in a future release\n"
     ]
    },
    {
     "name": "stdout",
     "output_type": "stream",
     "text": [
      ":: loading settings :: url = jar:file:/opt/spark3/jars/ivy-2.5.0.jar!/org/apache/ivy/core/settings/ivysettings.xml\n"
     ]
    },
    {
     "name": "stderr",
     "output_type": "stream",
     "text": [
      "Ivy Default Cache set to: /home/osbdet/.ivy2/cache\n",
      "The jars for the packages stored in: /home/osbdet/.ivy2/jars\n",
      "graphframes#graphframes added as a dependency\n",
      ":: resolving dependencies :: org.apache.spark#spark-submit-parent-2f553e8b-618e-4a88-a340-d4f17295b63c;1.0\n",
      "\tconfs: [default]\n",
      "\tfound graphframes#graphframes;0.8.2-spark3.2-s_2.12 in spark-packages\n",
      "\tfound org.slf4j#slf4j-api;1.7.16 in central\n",
      ":: resolution report :: resolve 502ms :: artifacts dl 5ms\n",
      "\t:: modules in use:\n",
      "\tgraphframes#graphframes;0.8.2-spark3.2-s_2.12 from spark-packages in [default]\n",
      "\torg.slf4j#slf4j-api;1.7.16 from central in [default]\n",
      "\t---------------------------------------------------------------------\n",
      "\t|                  |            modules            ||   artifacts   |\n",
      "\t|       conf       | number| search|dwnlded|evicted|| number|dwnlded|\n",
      "\t---------------------------------------------------------------------\n",
      "\t|      default     |   2   |   0   |   0   |   0   ||   2   |   0   |\n",
      "\t---------------------------------------------------------------------\n",
      ":: retrieving :: org.apache.spark#spark-submit-parent-2f553e8b-618e-4a88-a340-d4f17295b63c\n",
      "\tconfs: [default]\n",
      "\t0 artifacts copied, 2 already retrieved (0kB/28ms)\n",
      "23/11/10 02:01:40 ERROR SparkContext: Failed to add file:/opt/hive3/lib/hive-hcatalog-core-3.1.2.jar to Spark environment\n",
      "java.io.FileNotFoundException: Jar /opt/hive3/lib/hive-hcatalog-core-3.1.2.jar not found\n",
      "\tat org.apache.spark.SparkContext.addLocalJarFile$1(SparkContext.scala:1935)\n",
      "\tat org.apache.spark.SparkContext.addJar(SparkContext.scala:1990)\n",
      "\tat org.apache.spark.SparkContext.$anonfun$new$12(SparkContext.scala:503)\n",
      "\tat org.apache.spark.SparkContext.$anonfun$new$12$adapted(SparkContext.scala:503)\n",
      "\tat scala.collection.mutable.ResizableArray.foreach(ResizableArray.scala:62)\n",
      "\tat scala.collection.mutable.ResizableArray.foreach$(ResizableArray.scala:55)\n",
      "\tat scala.collection.mutable.ArrayBuffer.foreach(ArrayBuffer.scala:49)\n",
      "\tat org.apache.spark.SparkContext.<init>(SparkContext.scala:503)\n",
      "\tat org.apache.spark.api.java.JavaSparkContext.<init>(JavaSparkContext.scala:58)\n",
      "\tat java.base/jdk.internal.reflect.NativeConstructorAccessorImpl.newInstance0(Native Method)\n",
      "\tat java.base/jdk.internal.reflect.NativeConstructorAccessorImpl.newInstance(NativeConstructorAccessorImpl.java:62)\n",
      "\tat java.base/jdk.internal.reflect.DelegatingConstructorAccessorImpl.newInstance(DelegatingConstructorAccessorImpl.java:45)\n",
      "\tat java.base/java.lang.reflect.Constructor.newInstance(Constructor.java:490)\n",
      "\tat py4j.reflection.MethodInvoker.invoke(MethodInvoker.java:247)\n",
      "\tat py4j.reflection.ReflectionEngine.invoke(ReflectionEngine.java:357)\n",
      "\tat py4j.Gateway.invoke(Gateway.java:238)\n",
      "\tat py4j.commands.ConstructorCommand.invokeConstructor(ConstructorCommand.java:80)\n",
      "\tat py4j.commands.ConstructorCommand.execute(ConstructorCommand.java:69)\n",
      "\tat py4j.ClientServerConnection.waitForCommands(ClientServerConnection.java:182)\n",
      "\tat py4j.ClientServerConnection.run(ClientServerConnection.java:106)\n",
      "\tat java.base/java.lang.Thread.run(Thread.java:829)\n"
     ]
    }
   ],
   "source": [
    "from pyspark.sql import SparkSession\n",
    "\n",
    "# Create a Spark session with increased memory settings and increase the memory\n",
    "spark = SparkSession.builder \\\n",
    "    .appName(\"Big Data Project\") \\\n",
    "    .config(\"spark.executor.memory\", \"4g\") \\\n",
    "    .config(\"spark.driver.memory\", \"4g\") \\\n",
    "    .enableHiveSupport() \\\n",
    "    .getOrCreate()\n"
   ]
  },
  {
   "cell_type": "code",
   "execution_count": 5,
   "metadata": {},
   "outputs": [
    {
     "name": "stderr",
     "output_type": "stream",
     "text": [
      "                                                                                \r"
     ]
    }
   ],
   "source": [
    "df = spark.read.parquet(\"hdfs://localhost:9000/datalake/std/bikes_sharing\")"
   ]
  },
  {
   "cell_type": "code",
   "execution_count": 6,
   "metadata": {},
   "outputs": [
    {
     "name": "stderr",
     "output_type": "stream",
     "text": [
      "                                                                                \r"
     ]
    },
    {
     "name": "stdout",
     "output_type": "stream",
     "text": [
      "+----------+---+----------------+-------------+--------------------+----------------+--------------------+--------------+---------+---------+--------+---------+-------------+-------------------+-------------------+--------+-------+-------+----+------------+------------+---------+----+--------+------+----------+-----------+----+---------+---------+-------+----------------+----------+----------+--------------+-----------+-------+-------------------+-------------------+---------+--------------+\n",
      "|start_date|   |         ride_id|rideable_type|  start_station_name|start_station_id|    end_station_name|end_station_id|start_lat|start_lng| end_lat|  end_lng|member_casual|         started_at|           ended_at|duration|tempmax|tempmin|temp|feelslikemax|feelslikemin|feelslike| dew|humidity|precip|precipprob|precipcover|snow|snowdepth|windspeed|winddir|sealevelpressure|cloudcover|visibility|solarradiation|solarenergy|uvindex|            sunrise|             sunset|moonphase|sunlight_hours|\n",
      "+----------+---+----------------+-------------+--------------------+----------------+--------------------+--------------+---------+---------+--------+---------+-------------+-------------------+-------------------+--------+-------+-------+----+------------+------------+---------+----+--------+------+----------+-----------+----+---------+---------+-------+----------------+----------+----------+--------------+-----------+-------+-------------------+-------------------+---------+--------------+\n",
      "|2020-04-25|  0|77A0F1B26D1597B1|  docked_bike|Rhode Island & Co...|         31239.0|      12th & L St NW|       31251.0|38.905994| -77.0398|38.90382| -77.0284|       casual|2020-04-25 17:28:39|2020-04-25 17:35:04|     385|   17.8|    8.5|13.0|        17.8|         8.5|     13.0| 9.0|    78.1| 1.278|       100|       12.5| 0.0|      0.0|     21.7|  117.4|          1016.0|      78.2|      15.2|          90.0|        7.9|      4|2020-04-25 06:17:09|2020-04-25 19:55:29|     0.09|         13.64|\n",
      "|2020-04-06|  1|8698F10128EA4F18|  docked_bike|      21st & I St NW|         31205.0|      18th & L St NW|       31224.0| 38.90071|-77.04645|38.90374|-77.04245|       member|2020-04-06 07:54:59|2020-04-06 07:57:24|     145|   21.6|   12.8|16.6|        21.6|        12.8|     16.6| 5.2|    52.4|   0.0|         0|        0.0| 0.0|      0.0|     19.7|  334.2|          1017.0|      46.4|      16.0|         182.6|       15.7|      9|2020-04-06 06:44:13|2020-04-06 19:37:08|     0.45|         12.88|\n",
      "|2020-04-22|  2|AA07819DC0F58872|  docked_bike|Connecticut Ave &...|         31313.0|Connecticut Ave &...|       31313.0| 38.94114|-77.06197|38.94114|-77.06197|       casual|2020-04-22 17:06:18|2020-04-22 18:08:32|    3734|   16.1|    3.4|10.2|        16.1|         1.6|      9.0|-6.4|    32.5|   0.0|         0|        0.0| 0.0|      0.0|     30.6|  303.6|          1015.2|      23.5|      16.0|         174.2|       15.0|      9|2020-04-22 06:21:06|2020-04-22 19:52:34|      0.0|         13.52|\n",
      "|2020-04-16|  3|DA909BCA92EF85AB|  docked_bike|       7th & E St SW|         31294.0|       7th & E St SW|       31294.0| 38.88345|-77.02174|38.88345|-77.02174|       casual|2020-04-16 15:22:40|2020-04-16 15:58:37|    2157|   12.1|    5.6| 8.5|        12.1|         1.6|      6.5|-4.2|    42.1|   0.0|         0|        0.0| 0.0|      0.0|     32.8|  303.4|          1021.6|      30.2|      16.0|         178.1|       15.2|      8|2020-04-16 06:29:26|2020-04-16 19:46:46|     0.79|         13.29|\n",
      "|2020-04-10|  4|B36F1E14D8C6757E|  docked_bike|Potomac & Pennsyl...|         31606.0|8th & Eye St SE /...|       31608.0|  38.8803| -76.9862| 38.8792| -76.9953|       member|2020-04-10 13:19:41|2020-04-10 13:23:05|     204|   11.5|    6.1| 8.5|        11.5|         1.0|      5.4|-6.0|    35.5|   0.0|         0|        0.0| 0.0|      0.0|     45.2|  293.1|          1005.7|      42.4|      16.0|         114.3|        9.9|      6|2020-04-10 06:38:11|2020-04-10 19:40:59|     0.59|         13.05|\n",
      "+----------+---+----------------+-------------+--------------------+----------------+--------------------+--------------+---------+---------+--------+---------+-------------+-------------------+-------------------+--------+-------+-------+----+------------+------------+---------+----+--------+------+----------+-----------+----+---------+---------+-------+----------------+----------+----------+--------------+-----------+-------+-------------------+-------------------+---------+--------------+\n",
      "only showing top 5 rows\n",
      "\n"
     ]
    }
   ],
   "source": [
    "df.show(5)"
   ]
  },
  {
   "cell_type": "code",
   "execution_count": 8,
   "metadata": {},
   "outputs": [
    {
     "name": "stderr",
     "output_type": "stream",
     "text": [
      "                                                                                \r"
     ]
    },
    {
     "data": {
      "text/plain": [
       "(12935463, 34)"
      ]
     },
     "execution_count": 8,
     "metadata": {},
     "output_type": "execute_result"
    }
   ],
   "source": [
    "df.count(), len(df.columns)"
   ]
  },
  {
   "cell_type": "code",
   "execution_count": 6,
   "metadata": {},
   "outputs": [],
   "source": [
    "from pyspark.sql.functions import col, to_timestamp\n",
    "\n",
    "df = df.withColumn('sunrise', to_timestamp(col('sunrise'), 'yyyy-MM-dd HH:mm:ss'))\n",
    "df = df.withColumn('sunset', to_timestamp(col('sunset'), 'yyyy-MM-dd HH:mm:ss'))\n",
    "df = df.withColumn('started_at', to_timestamp(col('started_at'), 'yyyy-MM-dd HH:mm:ss'))\n",
    "df = df.withColumn('ended_at', to_timestamp(col('ended_at'), 'yyyy-MM-dd HH:mm:ss'))\n"
   ]
  },
  {
   "cell_type": "code",
   "execution_count": 10,
   "metadata": {},
   "outputs": [
    {
     "name": "stdout",
     "output_type": "stream",
     "text": [
      "+----------+----------------+-------------+----------------+--------------+-------------+-------------------+-------------------+--------+-------+-------+----+------------+------------+---------+----+--------+------+----------+-----------+----+---------+---------+-------+----------------+----------+----------+--------------+-----------+-------+-------------------+-------------------+---------+--------------+\n",
      "|start_date|         ride_id|rideable_type|start_station_id|end_station_id|member_casual|         started_at|           ended_at|duration|tempmax|tempmin|temp|feelslikemax|feelslikemin|feelslike| dew|humidity|precip|precipprob|precipcover|snow|snowdepth|windspeed|winddir|sealevelpressure|cloudcover|visibility|solarradiation|solarenergy|uvindex|            sunrise|             sunset|moonphase|sunlight_hours|\n",
      "+----------+----------------+-------------+----------------+--------------+-------------+-------------------+-------------------+--------+-------+-------+----+------------+------------+---------+----+--------+------+----------+-----------+----+---------+---------+-------+----------------+----------+----------+--------------+-----------+-------+-------------------+-------------------+---------+--------------+\n",
      "|2022-08-01|6AE167F6A05D5213| classic_bike|         31232.0|       31621.0|       member|2022-08-01 12:30:36|2022-08-01 12:34:41|     245|   31.5|   22.7|26.2|        32.9|        22.7|     27.0|19.6|    68.2| 0.005|       100|       4.17| 0.0|      0.0|     17.6|  264.4|          1014.7|      79.3|      15.9|          65.5|        5.7|      4|2022-08-01 06:09:11|2022-08-01 20:19:16|     0.14|         14.17|\n",
      "|2022-08-10|20B380648E15ADEB| classic_bike|         31232.0|       31621.0|       member|2022-08-10 15:27:13|2022-08-10 15:31:07|     234|   32.7|   23.2|27.4|        39.0|        23.2|     29.3|22.5|    75.8|13.657|       100|       25.0| 0.0|      0.0|     18.0|  337.2|          1017.0|      77.6|      14.8|          61.3|        5.3|      6|2022-08-10 06:17:13|2022-08-10 20:09:10|     0.45|         13.87|\n",
      "|2022-08-29|897E863B0ADA974F| classic_bike|         31231.0|       31083.0|       casual|2022-08-29 17:15:53|2022-08-29 18:00:22|    2669|   33.2|   23.6|28.0|        37.0|        23.6|     29.8|22.1|    72.1|   0.0|         0|        0.0| 0.0|      0.0|     21.9|  165.2|          1018.8|      47.0|      16.0|         237.3|       20.7|      8|2022-08-29 06:34:22|2022-08-29 19:43:04|     0.08|         13.15|\n",
      "|2022-08-30|22411760DD1E8759|electric_bike|         31231.0|       31277.0|       casual|2022-08-30 11:25:02|2022-08-30 11:34:34|     572|   34.3|   23.3|26.8|        37.7|        23.3|     27.9|22.0|    77.3| 3.871|       100|      16.67| 0.0|      0.0|     26.0|  200.0|          1012.6|      54.0|      15.5|         198.8|       17.2|      8|2022-08-30 06:35:16|2022-08-30 19:41:34|     0.12|         13.11|\n",
      "|2022-08-17|3274204D7B3078A7| classic_bike|         31232.0|       31277.0|       casual|2022-08-17 18:11:17|2022-08-17 18:51:04|    2387|   29.2|   18.5|23.0|        29.0|        18.5|     23.0|16.2|    67.6| 0.556|       100|       12.5| 0.0|      0.0|     20.9|    5.1|          1016.0|      63.3|      16.0|          56.0|        4.6|      3|2022-08-17 06:23:33|2022-08-17 20:00:12|     0.68|         13.61|\n",
      "+----------+----------------+-------------+----------------+--------------+-------------+-------------------+-------------------+--------+-------+-------+----+------------+------------+---------+----+--------+------+----------+-----------+----+---------+---------+-------+----------------+----------+----------+--------------+-----------+-------+-------------------+-------------------+---------+--------------+\n",
      "only showing top 5 rows\n",
      "\n"
     ]
    }
   ],
   "source": [
    "\n",
    "df.show(5)"
   ]
  },
  {
   "cell_type": "code",
   "execution_count": 13,
   "metadata": {},
   "outputs": [
    {
     "name": "stdout",
     "output_type": "stream",
     "text": [
      "root\n",
      " |-- start_date: date (nullable = true)\n",
      " |-- : integer (nullable = true)\n",
      " |-- ride_id: string (nullable = true)\n",
      " |-- rideable_type: string (nullable = true)\n",
      " |-- start_station_name: string (nullable = true)\n",
      " |-- start_station_id: float (nullable = true)\n",
      " |-- end_station_name: string (nullable = true)\n",
      " |-- end_station_id: float (nullable = true)\n",
      " |-- start_lat: float (nullable = true)\n",
      " |-- start_lng: float (nullable = true)\n",
      " |-- end_lat: float (nullable = true)\n",
      " |-- end_lng: float (nullable = true)\n",
      " |-- member_casual: string (nullable = true)\n",
      " |-- started_at: timestamp (nullable = true)\n",
      " |-- ended_at: timestamp (nullable = true)\n",
      " |-- duration: long (nullable = true)\n",
      " |-- tempmax: double (nullable = true)\n",
      " |-- tempmin: double (nullable = true)\n",
      " |-- temp: double (nullable = true)\n",
      " |-- feelslikemax: double (nullable = true)\n",
      " |-- feelslikemin: double (nullable = true)\n",
      " |-- feelslike: double (nullable = true)\n",
      " |-- dew: double (nullable = true)\n",
      " |-- humidity: double (nullable = true)\n",
      " |-- precip: double (nullable = true)\n",
      " |-- precipprob: integer (nullable = true)\n",
      " |-- precipcover: double (nullable = true)\n",
      " |-- snow: double (nullable = true)\n",
      " |-- snowdepth: double (nullable = true)\n",
      " |-- windspeed: double (nullable = true)\n",
      " |-- winddir: double (nullable = true)\n",
      " |-- sealevelpressure: double (nullable = true)\n",
      " |-- cloudcover: double (nullable = true)\n",
      " |-- visibility: double (nullable = true)\n",
      " |-- solarradiation: double (nullable = true)\n",
      " |-- solarenergy: double (nullable = true)\n",
      " |-- uvindex: integer (nullable = true)\n",
      " |-- sunrise: timestamp (nullable = true)\n",
      " |-- sunset: timestamp (nullable = true)\n",
      " |-- moonphase: double (nullable = true)\n",
      " |-- sunlight_hours: double (nullable = true)\n",
      " |-- day_of_week: integer (nullable = true)\n",
      " |-- hour_of_day: integer (nullable = true)\n",
      " |-- time_of_day: string (nullable = false)\n",
      "\n"
     ]
    }
   ],
   "source": [
    "df.printSchema()"
   ]
  },
  {
   "cell_type": "code",
   "execution_count": 7,
   "metadata": {},
   "outputs": [],
   "source": [
    "from pyspark.sql.functions import dayofweek, hour\n",
    "\n",
    "# Extract day of the week and hour of the day from the start time\n",
    "df = df.withColumn('day_of_week', dayofweek(col('started_at')))\n",
    "df = df.withColumn('hour_of_day', hour(col('started_at')))"
   ]
  },
  {
   "cell_type": "code",
   "execution_count": 10,
   "metadata": {},
   "outputs": [
    {
     "name": "stderr",
     "output_type": "stream",
     "text": [
      "                                                                                \r"
     ]
    }
   ],
   "source": [
    "from pyspark.sql.functions import hour\n",
    "\n",
    "# Group by the hour of 'started_at' and count the number of rides\n",
    "hourly_counts = df.groupBy(hour(col('started_at')).alias('hour')).count().orderBy('hour')\n",
    "\n",
    "# Collect the data to the driver\n",
    "hourly_counts_data = hourly_counts.collect()\n",
    "\n",
    "# Convert to a Pandas DataFrame for plotting\n",
    "import pandas as pd\n",
    "\n",
    "hourly_counts_df = pd.DataFrame(hourly_counts_data, columns=['Hour', 'Ride Count'])\n",
    "hourly_counts_df = hourly_counts_df.sort_values('Hour')  # Ensure it's sorted by hour just in case\n"
   ]
  },
  {
   "cell_type": "code",
   "execution_count": 14,
   "metadata": {},
   "outputs": [
    {
     "data": {
      "image/png": "[encoded data removed]",
      "text/plain": [
       "<Figure size 1200x600 with 1 Axes>"
      ]
     },
     "metadata": {},
     "output_type": "display_data"
    }
   ],
   "source": [
    "import matplotlib.pyplot as plt\n",
    "\n",
    "# Plotting the number of rides per hour\n",
    "plt.figure(figsize=(12, 6))\n",
    "plt.bar(hourly_counts_df['Hour'], hourly_counts_df['Ride Count'])\n",
    "plt.title('Ride Counts per Hour')\n",
    "plt.xlabel('Hour of the Day')\n",
    "plt.ylabel('Number of Rides')\n",
    "plt.xticks(range(24))  # Assuming hours are from 0 to 23\n",
    "plt.grid(axis='y', linestyle='--', linewidth=0.7)\n",
    "plt.show()\n"
   ]
  },
  {
   "cell_type": "code",
   "execution_count": 8,
   "metadata": {},
   "outputs": [],
   "source": [
    "from pyspark.sql.functions import when\n",
    "\n",
    "# Define the time periods based on demand\n",
    "df = df.withColumn(\n",
    "    'time_of_day',\n",
    "    when((hour(col('started_at')) >= 7) & (hour(col('started_at')) <= 9), 'Morning Commute')\n",
    "    .when((hour(col('started_at')) >= 10) & (hour(col('started_at')) <= 15), 'Midday')\n",
    "    .when((hour(col('started_at')) >= 16) & (hour(col('started_at')) <= 19), 'Evening Commute')\n",
    "    .when((hour(col('started_at')) >= 20) & (hour(col('started_at')) <= 23), 'Night')\n",
    "    .otherwise('Late Night')\n",
    ")\n"
   ]
  },
  {
   "cell_type": "code",
   "execution_count": 9,
   "metadata": {},
   "outputs": [],
   "source": [
    "import pyspark.sql.functions as F"
   ]
  },
  {
   "cell_type": "code",
   "execution_count": 10,
   "metadata": {},
   "outputs": [],
   "source": [
    "# Create Vertices DataFrame (stations)\n",
    "vertices = df.selectExpr(\"cast(start_station_id as string) as id\").distinct()"
   ]
  },
  {
   "cell_type": "code",
   "execution_count": 11,
   "metadata": {},
   "outputs": [],
   "source": [
    "# Edges DataFrame: Trips between stations with additional attributes\n",
    "edges = df.select(\n",
    "    F.col(\"start_station_id\").cast(\"string\").alias(\"src\"),\n",
    "    F.col(\"end_station_id\").cast(\"string\").alias(\"dst\"),\n",
    "    \"duration\",\n",
    "    \"temp\",\n",
    "    \"humidity\",\n",
    "    \"windspeed\",\n",
    "    \"precip\",\n",
    "    \"hour_of_day\",\n",
    "    \"member_casual\",\n",
    "    \"rideable_type\",\n",
    "    \"start_station_name\",\n",
    "    \"end_station_name\",\n",
    "    \"start_lat\",\n",
    "    \"start_lng\",\n",
    "    \"end_lat\",\n",
    "    \"end_lng\"\n",
    ")\n"
   ]
  },
  {
   "cell_type": "code",
   "execution_count": 26,
   "metadata": {},
   "outputs": [
    {
     "name": "stdout",
     "output_type": "stream",
     "text": [
      "Defaulting to user installation because normal site-packages is not writeable\n",
      "Requirement already satisfied: graphframes in /home/osbdet/.local/lib/python3.9/site-packages (0.6)\n",
      "Requirement already satisfied: numpy in /usr/local/lib/python3.9/dist-packages (from graphframes) (1.24.1)\n",
      "Requirement already satisfied: nose in /home/osbdet/.local/lib/python3.9/site-packages (from graphframes) (1.3.7)\n",
      "\n",
      "\u001b[1m[\u001b[0m\u001b[34;49mnotice\u001b[0m\u001b[1;39;49m]\u001b[0m\u001b[39;49m A new release of pip is available: \u001b[0m\u001b[31;49m23.2\u001b[0m\u001b[39;49m -> \u001b[0m\u001b[32;49m23.3.1\u001b[0m\n",
      "\u001b[1m[\u001b[0m\u001b[34;49mnotice\u001b[0m\u001b[1;39;49m]\u001b[0m\u001b[39;49m To update, run: \u001b[0m\u001b[32;49mpython3 -m pip install --upgrade pip\u001b[0m\n"
     ]
    }
   ],
   "source": [
    "\"\"\" !pip install graphframes \"\"\""
   ]
  },
  {
   "cell_type": "code",
   "execution_count": 12,
   "metadata": {},
   "outputs": [],
   "source": [
    "from graphframes import GraphFrame\n",
    "\n",
    "g = GraphFrame(vertices, edges)\n"
   ]
  },
  {
   "cell_type": "code",
   "execution_count": 13,
   "metadata": {},
   "outputs": [],
   "source": [
    "# Calculate the in-degree and out-degree of each vertex (station)\n",
    "inDegrees = g.inDegrees\n",
    "outDegrees = g.outDegrees"
   ]
  },
  {
   "cell_type": "markdown",
   "metadata": {},
   "source": [
    "## 1. Effect of Temperature on Ride Duration and Frequency"
   ]
  },
  {
   "cell_type": "code",
   "execution_count": 17,
   "metadata": {},
   "outputs": [
    {
     "name": "stderr",
     "output_type": "stream",
     "text": [
      "[Stage 13:==================================================>       (7 + 1) / 8]\r"
     ]
    },
    {
     "name": "stdout",
     "output_type": "stream",
     "text": [
      "+-----------------+--------------------+----------------+-----------+\n",
      "|Temperature_Range|Precipitation_Status|Average_Duration|Total_Trips|\n",
      "+-----------------+--------------------+----------------+-----------+\n",
      "|10-19°C          |No Precipitation    |0h 26m 10.35s   |2216134    |\n",
      "|10-19°C          |Precipitation       |0h 25m 33.53s   |1033194    |\n",
      "|20-29°C          |No Precipitation    |0h 26m 51.57s   |3045456    |\n",
      "|20-29°C          |Precipitation       |0h 28m 55.19s   |2220498    |\n",
      "|<10°C            |No Precipitation    |0h 8m 53.73s    |1219012    |\n",
      "|<10°C            |Precipitation       |0h 17m 54.14s   |409516     |\n",
      "|>=30°C           |No Precipitation    |0h 47m 10.11s   |65876      |\n",
      "|>=30°C           |Precipitation       |0h 31m 52.78s   |5286       |\n",
      "+-----------------+--------------------+----------------+-----------+\n",
      "\n"
     ]
    },
    {
     "name": "stderr",
     "output_type": "stream",
     "text": [
      "                                                                                \r"
     ]
    }
   ],
   "source": [
    "# Function to convert seconds to \"0h 1m 50s\" format\n",
    "def format_duration(seconds):\n",
    "    hours = F.floor(seconds / 3600)\n",
    "    minutes = F.floor((seconds % 3600) / 60)\n",
    "    seconds = F.round((seconds % 60), 2)\n",
    "    return F.concat(\n",
    "        hours, F.lit(\"h \"),\n",
    "        minutes, F.lit(\"m \"),\n",
    "        seconds, F.lit(\"s\")\n",
    "    )\n",
    "\n",
    "# Group by different weather conditions and calculate average duration\n",
    "agg_df = df.groupBy(\n",
    "    F.when(F.col(\"temp\") < 10, \"<10°C\")\n",
    "    .when((F.col(\"temp\") >= 10) & (F.col(\"temp\") < 20), \"10-19°C\")\n",
    "    .when((F.col(\"temp\") >= 20) & (F.col(\"temp\") < 30), \"20-29°C\")\n",
    "    .otherwise(\">=30°C\").alias(\"Temperature_Range\"),\n",
    "    F.when(F.col(\"precip\") == 0, \"No Precipitation\")\n",
    "    .otherwise(\"Precipitation\").alias(\"Precipitation_Status\")\n",
    ").agg(\n",
    "    format_duration(F.avg(\"duration\")).alias(\"Average_Duration\"),\n",
    "    F.count(\"ride_id\").alias(\"Total_Trips\")\n",
    ")\n",
    "\n",
    "# Sort and display the results\n",
    "sorted_df = agg_df.orderBy(\"Temperature_Range\", \"Precipitation_Status\")\n",
    "sorted_df.show(truncate=False)\n"
   ]
  },
  {
   "cell_type": "markdown",
   "metadata": {},
   "source": [
    "### Weather Impact:\n",
    "Weather conditions significantly impact biking behavior. Mild and cooler temperatures with no precipitation are the most favorable conditions for biking.\n",
    "\n",
    "### Adaptation to Precipitation\n",
    "Riders adapt to precipitation differently based on temperature. In cooler temperatures, precipitation leads to shorter rides, while in mild temperatures, riders tend to continue with slightly longer rides even in the rain.\n",
    "\n",
    "### Extreme Conditions\n",
    "Very cold or hot conditions see a decrease in the number of trips, with the least being in extreme heat combined with rain."
   ]
  },
  {
   "cell_type": "markdown",
   "metadata": {},
   "source": [
    "# 2. Station Connectivity and Popularity Analysis"
   ]
  },
  {
   "cell_type": "code",
   "execution_count": 18,
   "metadata": {},
   "outputs": [
    {
     "name": "stderr",
     "output_type": "stream",
     "text": [
      "[Stage 319:>                                                        (0 + 1) / 1]\r"
     ]
    },
    {
     "name": "stdout",
     "output_type": "stream",
     "text": [
      "+-------+--------+---------+-------------------+\n",
      "|     id|inDegree|outDegree|           PageRank|\n",
      "+-------+--------+---------+-------------------+\n",
      "|30200.0|    9486|     7277| 0.5645342710878147|\n",
      "|30201.0|    8301|     7473|  0.508834142255146|\n",
      "|31000.0|    8178|     8144| 0.9832035896473297|\n",
      "|31001.0|    2284|     2292|  0.408216904837503|\n",
      "|31002.0|   14298|    13968| 1.5501602335661124|\n",
      "|31003.0|   13826|    13288| 1.4308587239497053|\n",
      "|31004.0|    5245|     5185| 0.7407007944999852|\n",
      "|31005.0|   16203|    15805|  1.804951204862291|\n",
      "|31006.0|   15681|    15158| 1.6721878561866939|\n",
      "|31007.0|   14402|    14765| 1.6991898219802095|\n",
      "|31009.0|    7390|     7427| 0.9563410332988835|\n",
      "|31010.0|    9235|     9078| 1.3266651483052925|\n",
      "|31011.0|   12247|    12134| 1.4403806908197097|\n",
      "|31012.0|    3234|     3502|0.49023689697075246|\n",
      "|31013.0|    8662|     8565| 1.0421803271542758|\n",
      "|31014.0|   29706|    21604| 1.9256247114638365|\n",
      "|31015.0|   11225|     8519|  0.881257964803279|\n",
      "|31016.0|   11025|    11744| 0.9497740931870793|\n",
      "|31017.0|    4829|     7933| 0.4892752486745615|\n",
      "|31018.0|    3765|     4860|0.40898152663598913|\n",
      "+-------+--------+---------+-------------------+\n",
      "only showing top 20 rows\n",
      "\n"
     ]
    },
    {
     "name": "stderr",
     "output_type": "stream",
     "text": [
      "                                                                                \r"
     ]
    }
   ],
   "source": [
    "# Calculate PageRank\n",
    "pagerank = g.pageRank(resetProbability=0.15, maxIter=10)\n",
    "\n",
    "# Combine the results for analysis\n",
    "station_stats = inDegrees.join(outDegrees, \"id\", how=\"outer\") \\\n",
    "                         .join(pagerank.vertices, \"id\", how=\"outer\") \\\n",
    "                         .withColumnRenamed(\"pagerank\", \"PageRank\") \\\n",
    "                         .fillna(0)  # Fill null values with 0\n",
    "\n",
    "# Show the results\n",
    "station_stats.show()"
   ]
  },
  {
   "cell_type": "markdown",
   "metadata": {},
   "source": [
    "The analysis highlights the varying levels of station usage and their roles in the network. Stations with high degrees and PageRank scores are critical for the network's efficiency and should be prioritized for maintenance, bike availability, and infrastructure upgrades. Understanding these dynamics can assist in optimizing bike redistribution, enhancing customer experience, and planning for future station locations or expansions. Additionally, stations with a significant imbalance in inbound and outbound trips might require targeted interventions to ensure adequate bike availability."
   ]
  },
  {
   "cell_type": "markdown",
   "metadata": {},
   "source": [
    "# 3. Network Flow Analysis"
   ]
  },
  {
   "cell_type": "code",
   "execution_count": 14,
   "metadata": {},
   "outputs": [
    {
     "name": "stderr",
     "output_type": "stream",
     "text": [
      "[Stage 2:===================================================>       (7 + 1) / 8]\r"
     ]
    },
    {
     "name": "stdout",
     "output_type": "stream",
     "text": [
      "+----------+--------------+--------------+--------+\n",
      "|station_id|outgoing_trips|incoming_trips|net_flow|\n",
      "+----------+--------------+--------------+--------+\n",
      "|   31102.0|         41552|         28473|  -13079|\n",
      "|   31215.0|         34818|         47624|   12806|\n",
      "|   31296.0|         48114|         35495|  -12619|\n",
      "|   31602.0|         38111|         26119|  -11992|\n",
      "|   31124.0|         59352|         47374|  -11978|\n",
      "|   31225.0|         29949|         41040|   11091|\n",
      "|   31293.0|         21961|         32142|   10181|\n",
      "|   31113.0|         35423|         25387|  -10036|\n",
      "|   31131.0|         30673|         20723|   -9950|\n",
      "|   31115.0|         29760|         19882|   -9878|\n",
      "|   31117.0|         37573|         27782|   -9791|\n",
      "|   31295.0|         37854|         46993|    9139|\n",
      "|   31314.0|         30983|         39714|    8731|\n",
      "|   31230.0|         40829|         49487|    8658|\n",
      "|   31014.0|         21604|         29706|    8102|\n",
      "|   31128.0|         54889|         62657|    7768|\n",
      "|   31649.0|         30031|         22412|   -7619|\n",
      "|   31200.0|         74946|         82508|    7562|\n",
      "|   31323.0|         34290|         26733|   -7557|\n",
      "|   31133.0|         26665|         19258|   -7407|\n",
      "+----------+--------------+--------------+--------+\n",
      "only showing top 20 rows\n",
      "\n"
     ]
    },
    {
     "name": "stderr",
     "output_type": "stream",
     "text": [
      "                                                                                \r"
     ]
    }
   ],
   "source": [
    "# Calculate outgoing trips for each station\n",
    "outgoing_trips = edges.groupBy(\"src\").count().withColumnRenamed(\"src\", \"station_id\").withColumnRenamed(\"count\", \"outgoing_trips\")\n",
    "\n",
    "# Calculate incoming trips for each station\n",
    "incoming_trips = edges.groupBy(\"dst\").count().withColumnRenamed(\"dst\", \"station_id\").withColumnRenamed(\"count\", \"incoming_trips\")\n",
    "\n",
    "# Join the dataframes to get both incoming and outgoing trips for each station\n",
    "net_flow = outgoing_trips.join(incoming_trips, \"station_id\", \"outer\").fillna(0)\n",
    "\n",
    "# Calculate net flow\n",
    "net_flow = net_flow.withColumn(\"net_flow\", net_flow[\"incoming_trips\"] - net_flow[\"outgoing_trips\"])\n",
    "\n",
    "# Order by net flow to see stations with the highest imbalance\n",
    "net_flow_ordered = net_flow.orderBy(F.abs(F.col(\"net_flow\")).desc())\n",
    "\n",
    "# Display the results\n",
    "net_flow_ordered.show()"
   ]
  },
  {
   "cell_type": "markdown",
   "metadata": {},
   "source": [
    "### 1. Stations with High Negative Net Flow (More Bikes Leaving Than Arriving):\n",
    "For instance, station 31102.0 exhibits a net flow of -13,079, indicating a significant number of bikes are being taken from this station but not returned in equal measure. This station seems to be a popular starting point for trips, possibly due to its location or other factors attracting riders. However, this pattern could lead to a shortage of bikes, necessitating regular replenishment to meet demand.\n",
    "\n",
    "### 2. Stations with High Positive Net Flow (More Bikes Arriving Than Leaving):\n",
    "On the other hand, station 31215.0 has a positive net flow of +12,806, suggesting that more bikes are being returned here than taken away. This station might be located at a key destination point, leading to an accumulation of bikes. Managing this overflow could involve redistributing bikes to other locations or considering expansion of parking facilities.\n",
    "\n",
    "### 3. Implications for Bike Redistribution\n",
    "The imbalance illustrated by the net flow at various stations points to a need for efficient bike redistribution. Stations with high negative net flow are prime candidates for bike restocking, while those with high positive net flow may require bikes to be transported to other, less-served stations.\n",
    "\n",
    "### 4. Station Usage Patterns\n",
    "The data suggests distinct patterns in how different stations are used within the network. Some stations primarily function as departure points, while others act as arrival points. Understanding and acknowledging these patterns is crucial for station capacity planning, establishment of new stations, and overall optimization of bike-sharing operations.\n",
    "\n",
    "### 5. Strategic Planning:\n",
    "For strategic planning, such as promotional activities or station upgrades, stations with high traffic (either incoming or outgoing) should be prioritized. These are critical nodes in your network and play a significant role in the overall user experience."
   ]
  },
  {
   "cell_type": "markdown",
   "metadata": {},
   "source": [
    "# 4. Route Preference and Efficiency:"
   ]
  },
  {
   "cell_type": "code",
   "execution_count": 20,
   "metadata": {},
   "outputs": [
    {
     "name": "stderr",
     "output_type": "stream",
     "text": [
      "[Stage 366:============================>                            (4 + 4) / 8]\r"
     ]
    },
    {
     "name": "stdout",
     "output_type": "stream",
     "text": [
      "+-------+-------+---------------+----------------+\n",
      "|    src|    dst|number_of_trips|Average_Duration|\n",
      "+-------+-------+---------------+----------------+\n",
      "|31247.0|31247.0|          16777|   0h 53m 54.08s|\n",
      "|31248.0|31248.0|          15656|   0h 58m 45.38s|\n",
      "|31288.0|31288.0|          12684|   0h 54m 17.03s|\n",
      "|31064.0|31064.0|          11904|    0h 52m 9.19s|\n",
      "|31321.0|31321.0|          10603|   0h 58m 32.55s|\n",
      "|31258.0|31258.0|          10576|   0h 37m 28.29s|\n",
      "|31240.0|31240.0|           9860|     1h 6m 59.6s|\n",
      "|31273.0|31273.0|           9064|   0h 51m 53.29s|\n",
      "|31289.0|31289.0|           9053|   0h 47m 33.76s|\n",
      "|31290.0|31290.0|           8184|   0h 47m 42.88s|\n",
      "+-------+-------+---------------+----------------+\n",
      "\n"
     ]
    },
    {
     "name": "stderr",
     "output_type": "stream",
     "text": [
      "                                                                                \r"
     ]
    }
   ],
   "source": [
    "# Using the edges DataFrame to analyze route preferences\n",
    "popular_routes = edges.groupBy(\"src\", \"dst\").agg(\n",
    "    F.count(\"duration\").alias(\"number_of_trips\"),\n",
    "    format_duration(F.avg(\"duration\")).alias(\"Average_Duration\")\n",
    ").orderBy(F.desc(\"number_of_trips\"))\n",
    "\n",
    "# Displaying the top 10 most popular routes and their average durations\n",
    "top_popular_routes = popular_routes.limit(10)\n",
    "top_popular_routes.show()"
   ]
  },
  {
   "cell_type": "markdown",
   "metadata": {},
   "source": [
    "### 1. Circular Routes:\n",
    "The most striking observation is that the top routes are circular (same start and end station). This indicates a high prevalence of users taking bikes for round trips, potentially for leisure or exercise.\n",
    "\n",
    "### 2. Duration of Trips:\n",
    "The average duration of these trips ranges from about 37 minutes to over an hour. This further supports the idea that these trips are likely for leisure or exercise purposes, as they are significantly longer than typical commuter trips.\n",
    "\n",
    "### 3. Station Popularity:\n",
    "The stations identified (e.g., 31247.0, 31248.0, 31288.0, etc.) are likely located in areas that are popular for leisure activities, such as parks, scenic areas, or recreational paths. These stations could be key areas for targeted marketing, additional bike allocations, or promotional activities.\n",
    "\n",
    "### 4. Potential for New Services:\n",
    "Given the popularity of these circular routes, there might be an opportunity to create guided tours, offer additional services like refreshments or rest areas, or even organize events that start and end at these stations.\n",
    "\n",
    "### 5. Infrastructure Improvements: \n",
    "These stations might benefit from infrastructure improvements, like more bike racks, seating areas, or maintenance facilities, considering their high usage for longer trips."
   ]
  },
  {
   "cell_type": "markdown",
   "metadata": {},
   "source": [
    "# 5. Community Detection in the Network:"
   ]
  },
  {
   "cell_type": "code",
   "execution_count": 49,
   "metadata": {},
   "outputs": [
    {
     "name": "stderr",
     "output_type": "stream",
     "text": [
      "                                                                                \r"
     ]
    },
    {
     "name": "stdout",
     "output_type": "stream",
     "text": [
      "+-------+-------------+\n",
      "|     id|        label|\n",
      "+-------+-------------+\n",
      "|31910.0|1606317768705|\n",
      "|31100.0| 996432412673|\n",
      "|32426.0| 936302870530|\n",
      "|31535.0| 996432412673|\n",
      "|31666.0| 996432412673|\n",
      "|32034.0| 867583393794|\n",
      "|31041.0| 128849018880|\n",
      "|32416.0|1529008357377|\n",
      "|31006.0|1176821039104|\n",
      "|32003.0|1675037245442|\n",
      "|32204.0|1563368095745|\n",
      "|31019.0|1022202216449|\n",
      "|31225.0| 996432412673|\n",
      "|32221.0| 309237645314|\n",
      "|32089.0| 386547056642|\n",
      "|31408.0| 996432412673|\n",
      "|32259.0|1082331758595|\n",
      "|32218.0|1297080123395|\n",
      "|31126.0| 996432412673|\n",
      "|31032.0| 635655159808|\n",
      "+-------+-------------+\n",
      "only showing top 20 rows\n",
      "\n"
     ]
    }
   ],
   "source": [
    "# Apply Label Propagation\n",
    "result = g.labelPropagation(maxIter=5)\n",
    "\n",
    "# Show results\n",
    "result.select(\"id\", \"label\").show()"
   ]
  },
  {
   "cell_type": "markdown",
   "metadata": {},
   "source": [
    "The results of the Label Propagation algorithm show different labels assigned to each station (represented by id). Stations with the same label value are considered part of the same community. These labels represent clusters or groups of stations that are frequently interconnected through bike trips.\n",
    "\n",
    "### 1. Community Clusters: \n",
    "Stations with the same label form a community. This indicates that these stations are more frequently used together in the network, suggesting a pattern of trips within these clusters. For example, stations with the label 996432412673 form one community.\n",
    "\n",
    "### 2. Regional Patterns: \n",
    "These communities may correspond to geographical or functional regions in the city. For instance, stations in a business district might form one community, while those in a residential area might form another.\n",
    "\n",
    "### 3. Network Planning and Optimization:\n",
    "Understanding these communities can aid in better planning and resource allocation. For example, if a particular community sees higher bike usage, additional bikes or maintenance resources can be allocated there.\n",
    "\n",
    "### 4. Targeted Marketing and Services:\n",
    "Knowledge of community clusters can help in crafting targeted marketing strategies or customizing services for different regions.\n",
    "\n",
    "### 5. Infrastructure Development:\n",
    "Insights from community detection can guide the development of new stations or expansion of existing ones to enhance connectivity within and between communities."
   ]
  },
  {
   "cell_type": "markdown",
   "metadata": {},
   "source": [
    "# 6. Rideable Type Popularity Analysis:"
   ]
  },
  {
   "cell_type": "code",
   "execution_count": 22,
   "metadata": {},
   "outputs": [
    {
     "name": "stderr",
     "output_type": "stream",
     "text": [
      "[Stage 373:=================================================>       (7 + 1) / 8]\r"
     ]
    },
    {
     "name": "stdout",
     "output_type": "stream",
     "text": [
      "+-------------+-------------+-----------+-----------+----------------+\n",
      "|rideable_type|member_casual|hour_of_day|total_trips|average_duration|\n",
      "+-------------+-------------+-----------+-----------+----------------+\n",
      "| classic_bike|       casual|          0|      30514|        00:23:28|\n",
      "| classic_bike|       casual|          1|      20702|        00:24:20|\n",
      "| classic_bike|       casual|          2|      13660|        00:26:33|\n",
      "| classic_bike|       casual|          3|       6778|        00:24:59|\n",
      "| classic_bike|       casual|          4|       3970|        00:21:05|\n",
      "| classic_bike|       casual|          5|       9468|        00:16:39|\n",
      "| classic_bike|       casual|          6|      24904|        00:18:05|\n",
      "| classic_bike|       casual|          7|      53061|        00:18:40|\n",
      "| classic_bike|       casual|          8|     101403|        00:19:27|\n",
      "| classic_bike|       casual|          9|     106156|        00:25:24|\n",
      "| classic_bike|       casual|         10|     124553|        00:30:16|\n",
      "| classic_bike|       casual|         11|     147783|        00:31:24|\n",
      "| classic_bike|       casual|         12|     166187|        00:30:42|\n",
      "| classic_bike|       casual|         13|     173903|        00:30:58|\n",
      "| classic_bike|       casual|         14|     179762|        00:30:52|\n",
      "| classic_bike|       casual|         15|     188783|        00:29:07|\n",
      "| classic_bike|       casual|         16|     198666|        00:27:50|\n",
      "| classic_bike|       casual|         17|     239824|        00:25:51|\n",
      "| classic_bike|       casual|         18|     215685|        00:25:06|\n",
      "| classic_bike|       casual|         19|     165279|        00:25:56|\n",
      "| classic_bike|       casual|         20|     116452|        00:25:14|\n",
      "| classic_bike|       casual|         21|      89238|        00:24:31|\n",
      "| classic_bike|       casual|         22|      72214|        00:23:23|\n",
      "| classic_bike|       casual|         23|      50356|        00:22:55|\n",
      "| classic_bike|       member|          0|      40825|        00:12:44|\n",
      "| classic_bike|       member|          1|      24327|        00:12:54|\n",
      "| classic_bike|       member|          2|      14584|        00:13:13|\n",
      "| classic_bike|       member|          3|       7511|        00:13:15|\n",
      "| classic_bike|       member|          4|       8201|        00:12:29|\n",
      "| classic_bike|       member|          5|      28222|        00:11:14|\n",
      "| classic_bike|       member|          6|      91401|        00:11:18|\n",
      "| classic_bike|       member|          7|     212527|        00:12:01|\n",
      "| classic_bike|       member|          8|     346765|        00:12:11|\n",
      "| classic_bike|       member|          9|     247769|        00:12:24|\n",
      "| classic_bike|       member|         10|     202780|        00:13:02|\n",
      "| classic_bike|       member|         11|     226643|        00:13:22|\n",
      "| classic_bike|       member|         12|     260732|        00:13:11|\n",
      "| classic_bike|       member|         13|     255474|        00:13:29|\n",
      "| classic_bike|       member|         14|     251818|        00:13:50|\n",
      "| classic_bike|       member|         15|     286911|        00:13:53|\n",
      "| classic_bike|       member|         16|     342953|        00:13:37|\n",
      "| classic_bike|       member|         17|     472541|        00:13:36|\n",
      "| classic_bike|       member|         18|     424734|        00:13:14|\n",
      "| classic_bike|       member|         19|     309115|        00:13:14|\n",
      "| classic_bike|       member|         20|     211275|        00:12:55|\n",
      "| classic_bike|       member|         21|     155687|        00:13:08|\n",
      "| classic_bike|       member|         22|     115065|        00:13:00|\n",
      "| classic_bike|       member|         23|      73475|        00:12:53|\n",
      "|  docked_bike|       casual|          0|      11654|        02:23:51|\n",
      "|  docked_bike|       casual|          1|       6399|        03:00:00|\n",
      "+-------------+-------------+-----------+-----------+----------------+\n",
      "only showing top 50 rows\n",
      "\n"
     ]
    },
    {
     "name": "stderr",
     "output_type": "stream",
     "text": [
      "                                                                                \r"
     ]
    }
   ],
   "source": [
    "# Group by rideable_type, member_casual, and hour_of_day\n",
    "popularity_df = edges.groupBy(\"rideable_type\", \"member_casual\", \"hour_of_day\") \\\n",
    "                     .agg(\n",
    "                         F.count(F.lit(1)).alias(\"total_trips\"),\n",
    "                         F.avg(\"duration\").alias(\"average_duration\")\n",
    "                     ) \\\n",
    "                     .orderBy(\"rideable_type\", \"member_casual\", \"hour_of_day\")\n",
    "\n",
    "# Convert duration from seconds to a more readable format (hh:mm:ss)\n",
    "popularity_df = popularity_df.withColumn(\"average_duration\", \n",
    "                                         F.format_string(\"%02d:%02d:%02d\", \n",
    "                                                         (F.col(\"average_duration\") / 3600).cast(\"int\"), \n",
    "                                                         ((F.col(\"average_duration\") % 3600) / 60).cast(\"int\"), \n",
    "                                                         (F.col(\"average_duration\") % 60).cast(\"int\")))\n",
    "\n",
    "# Show the results\n",
    "popularity_df.show(50)\n"
   ]
  },
  {
   "cell_type": "markdown",
   "metadata": {},
   "source": [
    "### 1. Rideable Type Popularity:\n",
    "* Electric Bikes: These might be popular among casual users for leisurely rides, especially during weekends or evenings. If the data shows a higher average duration for electric bikes, it could indicate their use for longer, more relaxed trips.\n",
    "* Standard Bikes: Preferred by members, possibly for daily commutes. Shorter, more frequent trips during rush hours (morning and evening) could signify their use for work-related commuting.\n",
    "\n",
    "### 2. Member vs. Casual Usage Patterns:\n",
    "* Members: Likely to use bikes consistently at specific times (e.g., during rush hours for commuting). If the data shows a concentrated number of trips during these times, it suggests a strong reliance on the service for daily travel needs.\n",
    "* Casual Users: Possibly show a varied pattern, with higher usage during weekends or non-peak hours. Longer trip durations might indicate leisure activities or tourism.\n",
    "\n",
    "### 3. Hourly Variations:\n",
    "* Peak usage times might differ between members (rush hours) and casual users (mid-day, evenings, weekends).\n",
    "* Certain rideable types might be more popular during specific times of the day, reflecting their suitability for different activities (e.g., electric bikes for evening leisure rides).\n",
    "\n",
    "### 4. Duration of Rides:\n",
    "* Short-duration trips during peak hours could indicate efficient use for commuting, requiring a steady availability of bikes at key locations.\n",
    "* Longer-duration trips during off-peak hours or weekends might require different operational strategies, like ensuring battery-charged bikes are available for casual users."
   ]
  },
  {
   "cell_type": "markdown",
   "metadata": {},
   "source": [
    "# 7. The Icing on the cake"
   ]
  },
  {
   "cell_type": "code",
   "execution_count": 17,
   "metadata": {},
   "outputs": [],
   "source": [
    "from pyspark.sql.functions import col\n",
    "\n",
    "# Extract distinct start stations\n",
    "distinct_start_stations = edges.select(\n",
    "    col(\"src\").alias(\"station_id\"),\n",
    "    col(\"start_lat\").alias(\"latitude\"),\n",
    "    col(\"start_lng\").alias(\"longitude\")\n",
    ").distinct()\n",
    "\n",
    "# Extract distinct end stations\n",
    "distinct_end_stations = edges.select(\n",
    "    col(\"dst\").alias(\"station_id\"),\n",
    "    col(\"end_lat\").alias(\"latitude\"),\n",
    "    col(\"end_lng\").alias(\"longitude\")\n",
    ").distinct()\n",
    "\n",
    "# Union the start and end stations and remove duplicates\n",
    "distinct_stations = distinct_start_stations.union(distinct_end_stations).distinct()\n"
   ]
  },
  {
   "cell_type": "code",
   "execution_count": 24,
   "metadata": {},
   "outputs": [
    {
     "name": "stderr",
     "output_type": "stream",
     "text": [
      "                                                                                \r"
     ]
    }
   ],
   "source": [
    "# Collect the data to the driver node\n",
    "stations_list = distinct_stations.collect()"
   ]
  },
  {
   "cell_type": "code",
   "execution_count": 25,
   "metadata": {},
   "outputs": [
    {
     "name": "stdout",
     "output_type": "stream",
     "text": [
      "Defaulting to user installation because normal site-packages is not writeable\n",
      "Collecting folium\n",
      "  Obtaining dependency information for folium from https://files.pythonhosted.org/packages/a2/1a/37c7ee1bc806d6c32621fecc72c19f6a9f9b4369e5e8f406a7c16d49f031/folium-0.15.0-py2.py3-none-any.whl.metadata\n",
      "  Downloading folium-0.15.0-py2.py3-none-any.whl.metadata (3.4 kB)\n",
      "Collecting branca>=0.6.0 (from folium)\n",
      "  Obtaining dependency information for branca>=0.6.0 from https://files.pythonhosted.org/packages/2f/e7/603b136221de923055716d23e3047da71f92e0d8ba2c4517ce49a54fe768/branca-0.7.0-py3-none-any.whl.metadata\n",
      "  Downloading branca-0.7.0-py3-none-any.whl.metadata (1.5 kB)\n",
      "Requirement already satisfied: jinja2>=2.9 in /usr/local/lib/python3.9/dist-packages (from folium) (3.1.2)\n",
      "Requirement already satisfied: numpy in /usr/local/lib/python3.9/dist-packages (from folium) (1.24.1)\n",
      "Requirement already satisfied: requests in /usr/lib/python3/dist-packages (from folium) (2.25.1)\n",
      "Requirement already satisfied: MarkupSafe>=2.0 in /usr/local/lib/python3.9/dist-packages (from jinja2>=2.9->folium) (2.1.1)\n",
      "Downloading folium-0.15.0-py2.py3-none-any.whl (100 kB)\n",
      "\u001b[2K   \u001b[90m━━━━━━━━━━━━━━━━━━━━━━━━━━━━━━━━━━━━━━━━\u001b[0m \u001b[32m100.3/100.3 kB\u001b[0m \u001b[31m2.2 MB/s\u001b[0m eta \u001b[36m0:00:00\u001b[0m \u001b[36m0:00:01\u001b[0m\n",
      "\u001b[?25hDownloading branca-0.7.0-py3-none-any.whl (25 kB)\n",
      "Installing collected packages: branca, folium\n",
      "Successfully installed branca-0.7.0 folium-0.15.0\n",
      "\n",
      "\u001b[1m[\u001b[0m\u001b[34;49mnotice\u001b[0m\u001b[1;39;49m]\u001b[0m\u001b[39;49m A new release of pip is available: \u001b[0m\u001b[31;49m23.2\u001b[0m\u001b[39;49m -> \u001b[0m\u001b[32;49m23.3.1\u001b[0m\n",
      "\u001b[1m[\u001b[0m\u001b[34;49mnotice\u001b[0m\u001b[1;39;49m]\u001b[0m\u001b[39;49m To update, run: \u001b[0m\u001b[32;49mpython3 -m pip install --upgrade pip\u001b[0m\n"
     ]
    }
   ],
   "source": [
    "!pip install folium"
   ]
  },
  {
   "cell_type": "code",
   "execution_count": 26,
   "metadata": {},
   "outputs": [],
   "source": [
    "import folium\n",
    "\n",
    "# Create a map\n",
    "map = folium.Map(location=[38.9072, -77.0369], zoom_start=12)  # Adjust the location and zoom as needed\n",
    "\n",
    "# Add station markers\n",
    "for station in stations_list:\n",
    "    folium.CircleMarker(\n",
    "        location=[station['latitude'], station['longitude']],\n",
    "        radius=5,\n",
    "        color='blue',\n",
    "        fill=True,\n",
    "        fill_color='blue'\n",
    "    ).add_to(map)\n",
    "\n",
    "# Save or display the map\n",
    "map.save(\"bike_sharing_stations_map.html\")\n"
   ]
  },
  {
   "cell_type": "code",
   "execution_count": 15,
   "metadata": {},
   "outputs": [],
   "source": [
    "# Stations needing bikes (negative net flow)\n",
    "stations_needing_bikes = net_flow.filter(net_flow['net_flow'] < 0)\n",
    "\n",
    "# Stations with excess bikes (positive net flow)\n",
    "stations_with_excess_bikes = net_flow.filter(net_flow['net_flow'] > 0)"
   ]
  },
  {
   "cell_type": "code",
   "execution_count": 18,
   "metadata": {},
   "outputs": [],
   "source": [
    "from pyspark.sql.functions import udf\n",
    "from math import radians, cos, sin, asin, sqrt\n",
    "\n",
    "# Define the Haversine formula to calculate distance\n",
    "def haversine(lon1, lat1, lon2, lat2):\n",
    "    # Convert decimal degrees to radians\n",
    "    lon1, lat1, lon2, lat2 = map(radians, [lon1, lat1, lon2, lat2])\n",
    "    # Haversine formula\n",
    "    dlon = lon2 - lon1\n",
    "    dlat = lat2 - lat1\n",
    "    a = sin(dlat/2)**2 + cos(lat1) * cos(lat2) * sin(dlon/2)**2\n",
    "    c = 2 * asin(sqrt(a))\n",
    "    # Radius of earth in kilometers\n",
    "    r = 6371\n",
    "    return c * r\n",
    "\n",
    "haversine_udf = udf(haversine)\n",
    "# Join latitude and longitude for stations needing bikes and stations with excess bikes\n",
    "# You may need to adjust this part based on how your DataFrame is structured\n",
    "stations_needing_bikes = stations_needing_bikes.join(distinct_stations, \"station_id\")\n",
    "stations_with_excess_bikes = stations_with_excess_bikes.join(distinct_stations, \"station_id\")"
   ]
  },
  {
   "cell_type": "code",
   "execution_count": 19,
   "metadata": {},
   "outputs": [
    {
     "name": "stderr",
     "output_type": "stream",
     "text": [
      "[Stage 19:================================================>       (12 + 2) / 14]\r"
     ]
    },
    {
     "name": "stdout",
     "output_type": "stream",
     "text": [
      "+----------+--------------+--------------+--------+---------+----------+\n",
      "|station_id|outgoing_trips|incoming_trips|net_flow| latitude| longitude|\n",
      "+----------+--------------+--------------+--------+---------+----------+\n",
      "|   32021.0|          2395|          1635|    -760|38.982494| -77.09202|\n",
      "|   31117.0|         37573|         27782|   -9791|38.923336| -77.03505|\n",
      "|   32046.0|          7930|          7917|     -13|38.965065| -77.10331|\n",
      "|   31296.0|         48114|         35495|  -12619| 38.92415| -77.04065|\n",
      "|   31069.0|          3821|          3590|    -231|38.871826| -77.10793|\n",
      "|   31516.0|         12426|         12058|    -368|38.920673| -76.99584|\n",
      "|   31029.0|          7017|          6320|    -697|38.896976| -77.08647|\n",
      "|   31025.0|          6811|          6224|    -587| 38.88395|  -77.1078|\n",
      "|   31310.0|         10224|          9244|    -980|38.955048| -77.07001|\n",
      "|   31318.0|          6840|          6493|    -347|38.947075|  -77.0651|\n",
      "|   32029.0|          3161|          2715|    -446| 38.97721|-77.094604|\n",
      "|   31117.0|         37573|         27782|   -9791| 38.92334|-77.035194|\n",
      "|   31288.0|         95071|         93622|   -1449|38.890526| -77.01714|\n",
      "|   31124.0|         59352|         47374|  -11978| 38.92882|-77.032326|\n",
      "|   31401.0|         28889|         26174|   -2715|38.937466| -77.03287|\n",
      "|   31509.0|         31996|         30230|   -1766|38.912727| -77.01757|\n",
      "|   31323.0|         34290|         26733|   -7557| 38.92344| -77.05189|\n",
      "|   31629.0|         19557|         18932|    -625|38.889984| -76.99518|\n",
      "|   31050.0|          3414|          2872|    -542| 38.88514| -77.08785|\n",
      "|   31641.0|         37556|         37368|    -188| 38.89493|-77.003105|\n",
      "+----------+--------------+--------------+--------+---------+----------+\n",
      "only showing top 20 rows\n",
      "\n"
     ]
    },
    {
     "name": "stderr",
     "output_type": "stream",
     "text": [
      "                                                                                \r"
     ]
    }
   ],
   "source": [
    "stations_needing_bikes.show()"
   ]
  },
  {
   "cell_type": "code",
   "execution_count": 20,
   "metadata": {},
   "outputs": [
    {
     "name": "stderr",
     "output_type": "stream",
     "text": [
      "[Stage 37:============================================>           (11 + 3) / 14]\r"
     ]
    },
    {
     "name": "stdout",
     "output_type": "stream",
     "text": [
      "+----------+--------------+--------------+--------+---------+----------+\n",
      "|station_id|outgoing_trips|incoming_trips|net_flow| latitude| longitude|\n",
      "+----------+--------------+--------------+--------+---------+----------+\n",
      "|   31412.0|          3582|          4003|     421|38.957462|-77.002235|\n",
      "|   31076.0|          2669|          2983|     314| 38.83993| -77.08704|\n",
      "|   31412.0|          3582|          4003|     421|38.957462| -77.00216|\n",
      "|   31201.0|        102386|        105322|    2936|38.909878| -77.03438|\n",
      "|   31255.0|         24009|         25378|    1369|38.906567| -77.05155|\n",
      "|   31101.0|         80886|         83291|    2405| 38.91786|  -77.0319|\n",
      "|   31611.0|         35391|         37217|    1826|38.900513| -76.98816|\n",
      "|   31272.0|         36864|         39152|    2288| 38.88697| -77.01378|\n",
      "|   31202.0|         70050|         73141|    3091|38.912956| -77.03172|\n",
      "|   31293.0|         21961|         32142|   10181|38.902683|  -77.0612|\n",
      "|   31600.0|         79257|         80838|    1581| 38.90298|-77.019066|\n",
      "|   31312.0|         36024|         38708|    2684| 38.90856| -77.06378|\n",
      "|   31314.0|         30983|         39714|    8731|38.903572|-77.067764|\n",
      "|   31603.0|         94165|         96881|    2716| 38.90553| -77.00566|\n",
      "|   31603.0|         94165|         96881|    2716| 38.90561|-77.005424|\n",
      "|   31238.0|         24416|         29073|    4657|38.898434| -77.03225|\n",
      "|   31254.0|         20450|         23453|    3003|38.902035|-77.033714|\n",
      "|   31056.0|          3732|          3895|     163| 38.84803| -77.07514|\n",
      "|   31512.0|         10010|         10042|      32|38.903763|-76.987274|\n",
      "|   31403.0|          5083|          5141|      58|38.956604|-77.019714|\n",
      "+----------+--------------+--------------+--------+---------+----------+\n",
      "only showing top 20 rows\n",
      "\n"
     ]
    },
    {
     "name": "stderr",
     "output_type": "stream",
     "text": [
      "                                                                                \r"
     ]
    }
   ],
   "source": [
    "stations_with_excess_bikes.show()"
   ]
  },
  {
   "cell_type": "code",
   "execution_count": 24,
   "metadata": {},
   "outputs": [
    {
     "name": "stderr",
     "output_type": "stream",
     "text": [
      "                                                                                \r"
     ]
    }
   ],
   "source": [
    "stations_needing_bikes = stations_needing_bikes.select(\"station_id\", \"net_flow\", \"latitude\", \"longitude\").collect()\n",
    "stations_with_excess_bikes = stations_with_excess_bikes.select(\"station_id\", \"net_flow\", \"latitude\", \"longitude\").collect()"
   ]
  },
  {
   "cell_type": "code",
   "execution_count": null,
   "metadata": {},
   "outputs": [],
   "source": [
    "def distance(station_i, station_j, station_coordinates):\n",
    "    \"\"\"\n",
    "    Calculate the distance between two stations\n",
    "    \"\"\"\n",
    "    lat1, lon1 = station_coordinates[station_i]\n",
    "    lat2, lon2 = station_coordinates[station_j]\n",
    "    return haversine(lat1, lon1, lat2, lon2)"
   ]
  },
  {
   "cell_type": "code",
   "execution_count": null,
   "metadata": {},
   "outputs": [],
   "source": [
    "import pulp\n",
    "\n",
    "# Create a new LP problem\n",
    "prob = pulp.LpProblem(\"BikeRedistribution\", pulp.LpMinimize)\n",
    "\n",
    "# Create variables (x_ij for each pair of i, j)\n",
    "x_vars = {}\n",
    "for i in stations_with_excess_bikes:\n",
    "    for j in stations_needing_bikes:\n",
    "        x_vars[(i, j)] = pulp.LpVariable(f\"x_{i}_{j}\", lowBound=0, cat='Integer')\n",
    "\n",
    "# Objective Function\n",
    "prob += pulp.lpSum([x_vars[(i, j)] * distance(i, j) for i in stations_with_excess_bikes for j in stations_needing_bikes])\n",
    "\n",
    "# Constraints\n",
    "# Supply constraint for each station with excess bikes\n",
    "for i in stations_with_excess_bikes:\n",
    "    prob += pulp.lpSum([x_vars[(i, j)] for j in stations_needing_bikes]) <= bike_surplus_at(i)\n",
    "\n",
    "# Demand constraint for each station needing bikes\n",
    "for j in stations_needing_bikes:\n",
    "    prob += pulp.lpSum([x_vars[(i, j)] for i in stations_with_excess_bikes]) >= bike_deficit_at(j)\n",
    "\n",
    "# Solve the problem\n",
    "prob.solve()\n",
    "\n",
    "# Print the optimal bike movements\n",
    "for v in prob.variables():\n",
    "    if v.varValue > 0:\n",
    "        print(v.name, \"=\", v.varValue)\n"
   ]
  },
  {
   "cell_type": "markdown",
   "metadata": {},
   "source": [
    "    x_32046_32021 = 10\n",
    "    x_32046_31117 = 40\n",
    "    x_31296_31117 = 30\n",
    "    x_31516_31069 = 20\n",
    "    x_31516_32021 = 20\n"
   ]
  }
 ],
 "metadata": {
  "kernelspec": {
   "display_name": "Python 3 (ipykernel)",
   "language": "python",
   "name": "python3"
  },
  "language_info": {
   "codemirror_mode": {
    "name": "ipython",
    "version": 3
   },
   "file_extension": ".py",
   "mimetype": "text/x-python",
   "name": "python",
   "nbconvert_exporter": "python",
   "pygments_lexer": "ipython3",
   "version": "3.9.2"
  }
 },
 "nbformat": 4,
 "nbformat_minor": 2
}
